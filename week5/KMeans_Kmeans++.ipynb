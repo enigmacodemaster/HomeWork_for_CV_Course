{
 "cells": [
  {
   "cell_type": "code",
   "execution_count": 12,
   "metadata": {},
   "outputs": [],
   "source": [
    "import numpy as np\n",
    "import sys\n",
    "from copy import deepcopy\n",
    "import os"
   ]
  },
  {
   "cell_type": "code",
   "execution_count": 4,
   "metadata": {},
   "outputs": [],
   "source": [
    "sys.path.append(os.pardir)"
   ]
  },
  {
   "cell_type": "code",
   "execution_count": 5,
   "metadata": {},
   "outputs": [],
   "source": [
    "from hct66 import *"
   ]
  },
  {
   "cell_type": "code",
   "execution_count": 45,
   "metadata": {},
   "outputs": [],
   "source": [
    "image_data, image_label = generate_data()"
   ]
  },
  {
   "cell_type": "code",
   "execution_count": 30,
   "metadata": {},
   "outputs": [
    {
     "data": {
      "text/plain": [
       "(10, 6)"
      ]
     },
     "execution_count": 30,
     "metadata": {},
     "output_type": "execute_result"
    }
   ],
   "source": [
    "dataSet = [get_feature(img).numpy().reshape(img.shape[1]) for img in image_data] # 分类数据集\n",
    "dataSet = np.array(dataSet)\n",
    "dataSet.shape"
   ]
  },
  {
   "cell_type": "code",
   "execution_count": 18,
   "metadata": {},
   "outputs": [],
   "source": [
    "class KMeans:\n",
    "    def __init__(self, clusters: int = 3, init: str = 'kmeans++', max_iter: int = 100, epsilon: float = 1e-3):\n",
    "        self.clusters = clusters # \n",
    "        self.init = init\n",
    "        self.max_iter = max_iter\n",
    "        self.epsilon = epsilon\n",
    "        \n",
    "        self.clusterCenters = None\n",
    "        self.dist = None\n",
    "        self.labels = None\n",
    "    \n",
    "    # 生成簇中心\n",
    "    def generateCenter(self, dataset):\n",
    "        n_sample, n_feature = dataset.shape\n",
    "        \n",
    "        if self.init == 'random': # 如果初始化选择的是random，就随机产生几个簇\n",
    "            # 为了在数据范围内，产生随机质心，首先计算各特征的统计量\n",
    "            f_mean = np.mean(dataset, axis=0)\n",
    "            f_std = np.std(dataset, axis=0)\n",
    "            \n",
    "            self.clusterCenters = f_mean + np.random.randn(self.clusters, n_feature) * f_std\n",
    "            \n",
    "        elif self.init == 'kmeans++': # 如果初始化选择的是kmeans++，就要好好选择几个合理的簇\n",
    "            # 第一个中心随机选择\n",
    "            idx = np.random.randint(0, n_sample)\n",
    "            self.clusterCenters = [dataset[idx, :]]\n",
    "            \n",
    "            # 选出后面的k - 1个质心\n",
    "            for i in range(1, self.clusters):\n",
    "                dist = np.zeros((n_sample, len(self.clusterCenters))) # 各样本到已经存在的质心的距离矩阵\n",
    "                for center_idx in range(len(self.clusterCenters)):\n",
    "                    dist[:, center_idx] = np.linalg.norm(\n",
    "                        dataset - self.clusterCenters[center_idx], axis=1)\n",
    "                \n",
    "                dist = np.min(dist, axis=1)\n",
    "                p = dist / np.sum(dist)\n",
    "                \n",
    "                next_center_idx = np.random.choice(n_sample, p=p)\n",
    "                self.clusterCenters.append(dataset[next_center_idx])\n",
    "                \n",
    "            self.clusterCenters = np.array(self.clusterCenters)\n",
    "    \n",
    "    # 进行数据聚类学习\n",
    "    def fit(self, dataset):\n",
    "        n_sample, n_feature = dataset.shape # 样本数量，样本特征维度\n",
    "        \n",
    "        self.generateCenter(dataset)\n",
    "        \n",
    "        self.dist = np.zeros((n_sample, self.clusters))\n",
    "        \n",
    "        center_pre = np.zeros((self.clusters, n_feature))\n",
    "        \n",
    "        # 两次中心之间的更新\n",
    "        center_differ = np.linalg.norm(center_pre - self.clusterCenters, ord=2)\n",
    "        \n",
    "        epoch = 0\n",
    "        \n",
    "        from copy import deepcopy\n",
    "        while epoch < self.max_iter and center_differ > self.epsilon:\n",
    "            epoch += 1\n",
    "            # 首先计算每个样本到每个质心的距离\n",
    "            for i in range(self.clusters):\n",
    "                self.dist[:, i] = np.linalg.norm(dataset - self.clusterCenters[i], ord=2, axis=1)\n",
    "            \n",
    "            # 得到样本对应的类别为距离最近的质心\n",
    "            self.labels = np.argmin(self.dist, axis=1)\n",
    "            \n",
    "            center_pre = deepcopy(self.clusterCenters)\n",
    "            \n",
    "            # 计算新的中心\n",
    "            for i in range(self.clusters):\n",
    "                self.clusterCenters[i] = np.mean(dataset[self.labels == i], axis=0)\n",
    "            \n",
    "            center_differ = np.linalg.norm(center_pre - self.clusterCenters, ord=2)\n",
    "    \n",
    "    # 利用模型进行新数据的预测\n",
    "    def predict(self, testdata):\n",
    "        n_sample = testdata.shape[0]\n",
    "        \n",
    "        dist_test = np.zeros(n_sample, self.clusters)\n",
    "        \n",
    "        for i in range(self.clusters):\n",
    "            dist_test[:, i] = np.linalg.norm(testdata - self.clusterCenters, axis=1)\n",
    "        \n",
    "        # 对于每个数据预测的聚类形式\n",
    "        cluster_pred = np.argmin(dist_pred, axis=1)\n",
    "        \n",
    "        return cluster_pred\n",
    "        "
   ]
  },
  {
   "cell_type": "code",
   "execution_count": 32,
   "metadata": {},
   "outputs": [],
   "source": [
    "if __name__ == '__main__':\n",
    "    dataSet = [get_feature(img).numpy().reshape(img.shape[1]) for img in image_data] # 分类数据集\n",
    "    dataSet = np.array(dataSet) # 分类数据集\n",
    "#     print(dataSet.shape)\n",
    "    \n",
    "    kmeans = KMeans(clusters=3, init='kmeans++')\n",
    "    kmeans.fit(dataSet)\n",
    "    "
   ]
  },
  {
   "cell_type": "code",
   "execution_count": 58,
   "metadata": {},
   "outputs": [
    {
     "name": "stdout",
     "output_type": "stream",
     "text": [
      "第一类数据\n",
      " [[[0 0 1 1 0 0]\n",
      "  [0 1 0 0 1 0]\n",
      "  [0 1 0 0 1 0]\n",
      "  [0 1 0 0 1 0]\n",
      "  [0 0 1 1 0 0]\n",
      "  [0 0 0 0 0 0]]\n",
      "\n",
      " [[0 0 1 1 0 0]\n",
      "  [0 1 0 0 1 0]\n",
      "  [0 0 0 1 0 0]\n",
      "  [0 0 1 0 0 0]\n",
      "  [0 1 1 1 1 0]\n",
      "  [0 0 0 0 0 0]]\n",
      "\n",
      " [[0 0 1 1 0 0]\n",
      "  [0 0 0 0 1 0]\n",
      "  [0 0 1 1 0 0]\n",
      "  [0 0 0 0 1 0]\n",
      "  [0 0 1 1 0 0]\n",
      "  [0 0 0 0 0 0]]\n",
      "\n",
      " [[0 0 0 0 1 0]\n",
      "  [0 0 0 1 1 0]\n",
      "  [0 0 1 0 1 0]\n",
      "  [0 1 1 1 1 1]\n",
      "  [0 0 0 0 1 0]\n",
      "  [0 0 0 0 0 0]]\n",
      "\n",
      " [[0 0 1 1 0 0]\n",
      "  [0 1 0 0 1 0]\n",
      "  [0 0 1 1 0 0]\n",
      "  [0 1 0 0 1 0]\n",
      "  [0 0 1 1 0 0]\n",
      "  [0 0 0 0 0 0]]\n",
      "\n",
      " [[0 0 1 1 1 0]\n",
      "  [0 1 0 0 1 0]\n",
      "  [0 1 1 1 1 0]\n",
      "  [0 0 0 0 1 0]\n",
      "  [0 0 0 0 1 0]\n",
      "  [0 0 0 0 0 0]]]\n"
     ]
    }
   ],
   "source": [
    "image_class_1 = datas[kmeans.labels == 0]\n",
    "print('第一类数据\\n',image_class_1)"
   ]
  },
  {
   "cell_type": "code",
   "execution_count": 61,
   "metadata": {},
   "outputs": [
    {
     "name": "stdout",
     "output_type": "stream",
     "text": [
      "第二类数据\n",
      " [[[0 1 1 1 0 0]\n",
      "  [0 1 0 0 0 0]\n",
      "  [0 1 1 1 0 0]\n",
      "  [0 0 0 0 1 0]\n",
      "  [0 1 1 1 0 0]\n",
      "  [0 0 0 0 0 0]]\n",
      "\n",
      " [[0 0 1 1 0 0]\n",
      "  [0 1 0 0 0 0]\n",
      "  [0 1 1 1 0 0]\n",
      "  [0 1 0 0 1 0]\n",
      "  [0 0 1 1 0 0]\n",
      "  [0 0 0 0 0 0]]]\n"
     ]
    }
   ],
   "source": [
    "image_class_2 = datas[kmeans.labels == 1]\n",
    "print('第二类数据\\n', image_class_2)"
   ]
  },
  {
   "cell_type": "code",
   "execution_count": 60,
   "metadata": {},
   "outputs": [
    {
     "name": "stdout",
     "output_type": "stream",
     "text": [
      "第三类数据\n",
      " [[[0 0 0 1 0 0]\n",
      "  [0 0 1 1 0 0]\n",
      "  [0 0 0 1 0 0]\n",
      "  [0 0 0 1 0 0]\n",
      "  [0 0 1 1 1 0]\n",
      "  [0 0 0 0 0 0]]\n",
      "\n",
      " [[0 1 1 1 1 0]\n",
      "  [0 0 0 0 1 0]\n",
      "  [0 0 0 1 0 0]\n",
      "  [0 0 0 1 0 0]\n",
      "  [0 0 0 1 0 0]\n",
      "  [0 0 0 0 0 0]]]\n"
     ]
    }
   ],
   "source": [
    "image_class_3 = datas[kmeans.labels == 2]\n",
    "print('第三类数据\\n', image_class_3)"
   ]
  },
  {
   "cell_type": "code",
   "execution_count": null,
   "metadata": {},
   "outputs": [],
   "source": []
  }
 ],
 "metadata": {
  "kernelspec": {
   "display_name": "pytorch-AI",
   "language": "python",
   "name": "pytorch"
  },
  "language_info": {
   "codemirror_mode": {
    "name": "ipython",
    "version": 3
   },
   "file_extension": ".py",
   "mimetype": "text/x-python",
   "name": "python",
   "nbconvert_exporter": "python",
   "pygments_lexer": "ipython3",
   "version": "3.6.2"
  }
 },
 "nbformat": 4,
 "nbformat_minor": 2
}
